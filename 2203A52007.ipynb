{
  "cells": [
    {
      "cell_type": "code",
      "execution_count": null,
      "metadata": {
        "colab": {
          "background_save": true,
          "base_uri": "https://localhost:8080/"
        },
        "id": "Otjj2hQWaew3",
        "outputId": "b35a41b7-5ee8-4489-ad05-19508953de48"
      },
      "outputs": [
        {
          "name": "stdout",
          "output_type": "stream",
          "text": [
            "      battery_power  blue  clock_speed  dual_sim  fc  four_g  int_memory  \\\n",
            "0               842     0          2.2         0   1       0           7   \n",
            "1              1021     1          0.5         1   0       1          53   \n",
            "2               563     1          0.5         1   2       1          41   \n",
            "3               615     1          2.5         0   0       0          10   \n",
            "4              1821     1          1.2         0  13       1          44   \n",
            "...             ...   ...          ...       ...  ..     ...         ...   \n",
            "1995            794     1          0.5         1   0       1           2   \n",
            "1996           1965     1          2.6         1   0       0          39   \n",
            "1997           1911     0          0.9         1   1       1          36   \n",
            "1998           1512     0          0.9         0   4       1          46   \n",
            "1999            510     1          2.0         1   5       1          45   \n",
            "\n",
            "      m_dep  mobile_wt  n_cores  ...  px_height  px_width   ram  sc_h  sc_w  \\\n",
            "0       0.6        188        2  ...         20       756  2549     9     7   \n",
            "1       0.7        136        3  ...        905      1988  2631    17     3   \n",
            "2       0.9        145        5  ...       1263      1716  2603    11     2   \n",
            "3       0.8        131        6  ...       1216      1786  2769    16     8   \n",
            "4       0.6        141        2  ...       1208      1212  1411     8     2   \n",
            "...     ...        ...      ...  ...        ...       ...   ...   ...   ...   \n",
            "1995    0.8        106        6  ...       1222      1890   668    13     4   \n",
            "1996    0.2        187        4  ...        915      1965  2032    11    10   \n",
            "1997    0.7        108        8  ...        868      1632  3057     9     1   \n",
            "1998    0.1        145        5  ...        336       670   869    18    10   \n",
            "1999    0.9        168        6  ...        483       754  3919    19     4   \n",
            "\n",
            "      talk_time  three_g  touch_screen  wifi  price_range  \n",
            "0            19        0             0     1            1  \n",
            "1             7        1             1     0            2  \n",
            "2             9        1             1     0            2  \n",
            "3            11        1             0     0            2  \n",
            "4            15        1             1     0            1  \n",
            "...         ...      ...           ...   ...          ...  \n",
            "1995         19        1             1     0            0  \n",
            "1996         16        1             1     1            2  \n",
            "1997          5        1             1     0            3  \n",
            "1998         19        1             1     1            0  \n",
            "1999          2        1             1     1            3  \n",
            "\n",
            "[2000 rows x 21 columns]\n"
          ]
        }
      ],
      "source": [
        "import pandas as pd\n",
        "var = pd.read_csv(\"/content/drive/MyDrive/train.csv\")\n",
        "print(var)"
      ]
    },
    {
      "cell_type": "code",
      "execution_count": null,
      "metadata": {
        "colab": {
          "base_uri": "https://localhost:8080/"
        },
        "id": "Elggsb59nk_f",
        "outputId": "6b8cddc9-f9c2-45d0-9a77-84a03a0b0e76"
      },
      "outputs": [
        {
          "name": "stdout",
          "output_type": "stream",
          "text": [
            "Target column is:\n",
            "0       1\n",
            "1       2\n",
            "2       2\n",
            "3       2\n",
            "4       1\n",
            "       ..\n",
            "1995    0\n",
            "1996    2\n",
            "1997    3\n",
            "1998    0\n",
            "1999    3\n",
            "Name: price_range, Length: 2000, dtype: int64\n",
            "feature column is:\n",
            "      battery_power  blue  clock_speed  dual_sim  fc  four_g  int_memory  \\\n",
            "0               842     0          2.2         0   1       0           7   \n",
            "1              1021     1          0.5         1   0       1          53   \n",
            "2               563     1          0.5         1   2       1          41   \n",
            "3               615     1          2.5         0   0       0          10   \n",
            "4              1821     1          1.2         0  13       1          44   \n",
            "...             ...   ...          ...       ...  ..     ...         ...   \n",
            "1995            794     1          0.5         1   0       1           2   \n",
            "1996           1965     1          2.6         1   0       0          39   \n",
            "1997           1911     0          0.9         1   1       1          36   \n",
            "1998           1512     0          0.9         0   4       1          46   \n",
            "1999            510     1          2.0         1   5       1          45   \n",
            "\n",
            "      m_dep  mobile_wt  n_cores  pc  px_height  px_width   ram  sc_h  sc_w  \\\n",
            "0       0.6        188        2   2         20       756  2549     9     7   \n",
            "1       0.7        136        3   6        905      1988  2631    17     3   \n",
            "2       0.9        145        5   6       1263      1716  2603    11     2   \n",
            "3       0.8        131        6   9       1216      1786  2769    16     8   \n",
            "4       0.6        141        2  14       1208      1212  1411     8     2   \n",
            "...     ...        ...      ...  ..        ...       ...   ...   ...   ...   \n",
            "1995    0.8        106        6  14       1222      1890   668    13     4   \n",
            "1996    0.2        187        4   3        915      1965  2032    11    10   \n",
            "1997    0.7        108        8   3        868      1632  3057     9     1   \n",
            "1998    0.1        145        5   5        336       670   869    18    10   \n",
            "1999    0.9        168        6  16        483       754  3919    19     4   \n",
            "\n",
            "      talk_time  three_g  touch_screen  wifi  \n",
            "0            19        0             0     1  \n",
            "1             7        1             1     0  \n",
            "2             9        1             1     0  \n",
            "3            11        1             0     0  \n",
            "4            15        1             1     0  \n",
            "...         ...      ...           ...   ...  \n",
            "1995         19        1             1     0  \n",
            "1996         16        1             1     1  \n",
            "1997          5        1             1     0  \n",
            "1998         19        1             1     1  \n",
            "1999          2        1             1     1  \n",
            "\n",
            "[2000 rows x 20 columns]\n"
          ]
        }
      ],
      "source": [
        "import pandas as pd\n",
        "target = var['price_range']\n",
        "print(\"Target column is:\")\n",
        "print(target)\n",
        "#features = file2[['longitude','latitude','housing_median_age','total_rooms','total_bedrooms','population','households','median_income']]\n",
        "features = var.drop(columns = 'price_range')\n",
        "print(\"feature column is:\")\n",
        "print(features)"
      ]
    },
    {
      "cell_type": "code",
      "execution_count": null,
      "metadata": {
        "colab": {
          "base_uri": "https://localhost:8080/"
        },
        "id": "8ihqj6OAc7jx",
        "outputId": "9db7eba6-4a6f-4193-dec4-b7aab1931800"
      },
      "outputs": [
        {
          "name": "stdout",
          "output_type": "stream",
          "text": [
            "[[2.10605303e-01 0.00000000e+00 5.50275138e-04 ... 0.00000000e+00\n",
            "  2.50125063e-04 2.50125063e-04]\n",
            " [2.55377689e-01 2.50125063e-04 1.25062531e-04 ... 2.50125063e-04\n",
            "  0.00000000e+00 5.00250125e-04]\n",
            " [1.40820410e-01 2.50125063e-04 1.25062531e-04 ... 2.50125063e-04\n",
            "  0.00000000e+00 5.00250125e-04]\n",
            " ...\n",
            " [4.77988994e-01 0.00000000e+00 2.25112556e-04 ... 2.50125063e-04\n",
            "  0.00000000e+00 7.50375188e-04]\n",
            " [3.78189095e-01 0.00000000e+00 2.25112556e-04 ... 2.50125063e-04\n",
            "  2.50125063e-04 0.00000000e+00]\n",
            " [1.27563782e-01 2.50125063e-04 5.00250125e-04 ... 2.50125063e-04\n",
            "  2.50125063e-04 7.50375188e-04]]\n"
          ]
        }
      ],
      "source": [
        "import numpy as np\n",
        "\n",
        "# create an array\n",
        "data = np.array(var)\n",
        "normalizedData = (data-np.min(data))/(np.max(data)-np.min(data))\n",
        "# normalized data using min max value\n",
        "#file2 = normalizedData\n",
        "print(normalizedData)"
      ]
    },
    {
      "cell_type": "code",
      "execution_count": 2,
      "metadata": {
        "id": "rhUPHEdsdFtU"
      },
      "outputs": [],
      "source": [
        "from sklearn.preprocessing import MinMaxScaler\n",
        "from sklearn.model_selection import train_test_split"
      ]
    },
    {
      "cell_type": "code",
      "execution_count": null,
      "metadata": {
        "colab": {
          "base_uri": "https://localhost:8080/",
          "height": 191
        },
        "id": "u6_Z8_qVdoYY",
        "outputId": "0c068b95-d6b9-425e-d5e7-718fcee77a33"
      },
      "outputs": [
        {
          "name": "stdout",
          "output_type": "stream",
          "text": [
            "normalized data of feautures set:\n",
            "[[0.22778891 0.         0.68       ... 0.         0.         1.        ]\n",
            " [0.34736139 1.         0.         ... 1.         1.         0.        ]\n",
            " [0.04141617 1.         0.         ... 1.         1.         0.        ]\n",
            " ...\n",
            " [0.94188377 0.         0.16       ... 1.         1.         0.        ]\n",
            " [0.6753507  0.         0.16       ... 1.         1.         1.        ]\n",
            " [0.00601202 1.         0.6        ... 1.         1.         1.        ]]\n",
            "normalized data of target column:\n"
          ]
        },
        {
          "data": {
            "application/vnd.google.colaboratory.intrinsic+json": {
              "type": "string"
            },
            "text/plain": [
              "'ytrain_norm = scaler.fit_transform(target)\\nprint(ytrain_norm)'"
            ]
          },
          "execution_count": 7,
          "metadata": {},
          "output_type": "execute_result"
        }
      ],
      "source": [
        "data = np.array(features)\n",
        "scaler = MinMaxScaler(feature_range = (0,1))\n",
        "#print(scaler.fit(data))\n",
        "#print(scaler.transform(data))\n",
        "xtrain_norm = scaler.fit_transform(features)\n",
        "print('normalized data of feautures set:')\n",
        "print(xtrain_norm)\n",
        "print(\"normalized data of target column:\")\n",
        "'''ytrain_norm = scaler.fit_transform(target)\n",
        "print(ytrain_norm)'''"
      ]
    },
    {
      "cell_type": "code",
      "execution_count": null,
      "metadata": {
        "colab": {
          "base_uri": "https://localhost:8080/"
        },
        "id": "wBdN4UvSe4mE",
        "outputId": "77599ba9-1bb5-42fd-c50a-f72beeffcf5d"
      },
      "outputs": [
        {
          "name": "stdout",
          "output_type": "stream",
          "text": [
            "Enter the splitting factor (i.e) ratio between train and test\n",
            "0.9\n",
            "Total Number of rows in train: 1800\n",
            "Total Number of rows in test: 200\n"
          ]
        }
      ],
      "source": [
        "import math\n",
        "X=var\n",
        "print(\"Enter the splitting factor (i.e) ratio between train and test\")\n",
        "s_f = float(input())\n",
        "n_train = math.floor(s_f * X.shape[0])\n",
        "n_test = math.ceil((1-s_f) * X.shape[0])\n",
        "X_train = features[:n_train]\n",
        "y_train = target[:n_train]\n",
        "X_test = features[n_train:]\n",
        "y_test = target[n_train:]\n",
        "print(\"Total Number of rows in train:\",X_train.shape[0])\n",
        "print(\"Total Number of rows in test:\",X_test.shape[0])\n"
      ]
    },
    {
      "cell_type": "code",
      "execution_count": null,
      "metadata": {
        "colab": {
          "base_uri": "https://localhost:8080/"
        },
        "id": "37vQLzJphQgA",
        "outputId": "d09f5bc3-3125-4f74-abde-70ba971714b2"
      },
      "outputs": [
        {
          "name": "stdout",
          "output_type": "stream",
          "text": [
            "0.9\n",
            "X_train shape: (200, 20)\n",
            "X_test shape: (1800, 20)\n",
            "y_train shape: (200,)\n",
            "y_test shape: (1800,)\n"
          ]
        }
      ],
      "source": [
        "from sklearn.model_selection import train_test_split\n",
        "X_train, X_test, y_train, y_test = train_test_split(xtrain_norm,target, test_size=float(input()), random_state=42)\n",
        "print(\"X_train shape:\", X_train.shape)\n",
        "print(\"X_test shape:\", X_test.shape)\n",
        "print(\"y_train shape:\", y_train.shape)\n",
        "print(\"y_test shape:\", y_test.shape)"
      ]
    },
    {
      "cell_type": "code",
      "execution_count": 3,
      "metadata": {
        "colab": {
          "base_uri": "https://localhost:8080/"
        },
        "id": "kx7o2gN6ke9_",
        "outputId": "dcca229d-7a75-4d45-9d3b-c1589e193dc1"
      },
      "outputs": [
        {
          "output_type": "stream",
          "name": "stdout",
          "text": [
            "     age  sex  cp  trestbps  chol  fbs  restecg  thalach  exang  oldpeak  \\\n",
            "0     63    1   3       145   233    1        0      150      0      2.3   \n",
            "1     37    1   2       130   250    0        1      187      0      3.5   \n",
            "2     41    0   1       130   204    0        0      172      0      1.4   \n",
            "3     56    1   1       120   236    0        1      178      0      0.8   \n",
            "4     57    0   0       120   354    0        1      163      1      0.6   \n",
            "..   ...  ...  ..       ...   ...  ...      ...      ...    ...      ...   \n",
            "298   57    0   0       140   241    0        1      123      1      0.2   \n",
            "299   45    1   3       110   264    0        1      132      0      1.2   \n",
            "300   68    1   0       144   193    1        1      141      0      3.4   \n",
            "301   57    1   0       130   131    0        1      115      1      1.2   \n",
            "302   57    0   1       130   236    0        0      174      0      0.0   \n",
            "\n",
            "     slope  ca  thal  target  \n",
            "0        0   0     1       1  \n",
            "1        0   0     2       1  \n",
            "2        2   0     2       1  \n",
            "3        2   0     2       1  \n",
            "4        2   0     2       1  \n",
            "..     ...  ..   ...     ...  \n",
            "298      1   0     3       0  \n",
            "299      1   0     3       0  \n",
            "300      1   2     3       0  \n",
            "301      1   1     3       0  \n",
            "302      1   1     2       0  \n",
            "\n",
            "[303 rows x 14 columns]\n"
          ]
        }
      ],
      "source": [
        "import pandas as pd\n",
        "data01 = pd.read_csv(\"/content/drive/MyDrive/heart.csv\")\n",
        "print(data01)"
      ]
    },
    {
      "cell_type": "code",
      "execution_count": null,
      "metadata": {
        "id": "acvO_f_im2wO"
      },
      "outputs": [],
      "source": []
    },
    {
      "cell_type": "code",
      "execution_count": 48,
      "metadata": {
        "colab": {
          "base_uri": "https://localhost:8080/"
        },
        "id": "4qNQ38Rxn8Nf",
        "outputId": "fe3f11b8-48df-4c5d-f52a-d7ba37f25577"
      },
      "outputs": [
        {
          "output_type": "stream",
          "name": "stdout",
          "text": [
            "Target column is:\n",
            "0      1\n",
            "1      1\n",
            "2      1\n",
            "3      1\n",
            "4      1\n",
            "      ..\n",
            "298    0\n",
            "299    0\n",
            "300    0\n",
            "301    0\n",
            "302    0\n",
            "Name: target, Length: 303, dtype: int64\n",
            "feature column is:\n",
            "     age  sex  cp  trestbps  chol  fbs  restecg  thalach  exang  oldpeak  \\\n",
            "0     63    1   3       145   233    1        0      150      0      2.3   \n",
            "1     37    1   2       130   250    0        1      187      0      3.5   \n",
            "2     41    0   1       130   204    0        0      172      0      1.4   \n",
            "3     56    1   1       120   236    0        1      178      0      0.8   \n",
            "4     57    0   0       120   354    0        1      163      1      0.6   \n",
            "..   ...  ...  ..       ...   ...  ...      ...      ...    ...      ...   \n",
            "298   57    0   0       140   241    0        1      123      1      0.2   \n",
            "299   45    1   3       110   264    0        1      132      0      1.2   \n",
            "300   68    1   0       144   193    1        1      141      0      3.4   \n",
            "301   57    1   0       130   131    0        1      115      1      1.2   \n",
            "302   57    0   1       130   236    0        0      174      0      0.0   \n",
            "\n",
            "     slope  ca  thal  \n",
            "0        0   0     1  \n",
            "1        0   0     2  \n",
            "2        2   0     2  \n",
            "3        2   0     2  \n",
            "4        2   0     2  \n",
            "..     ...  ..   ...  \n",
            "298      1   0     3  \n",
            "299      1   0     3  \n",
            "300      1   2     3  \n",
            "301      1   1     3  \n",
            "302      1   1     2  \n",
            "\n",
            "[303 rows x 13 columns]\n"
          ]
        }
      ],
      "source": [
        "import pandas as pd\n",
        "target00 = data01['target']\n",
        "print(\"Target column is:\")\n",
        "print(target00)\n",
        "#features = file2[['longitude','latitude','housing_median_age','total_rooms','total_bedrooms','population','households','median_income']]\n",
        "features01 = data01.drop('target',axis = 1)\n",
        "print(\"feature column is:\")\n",
        "print(features01)"
      ]
    },
    {
      "cell_type": "code",
      "execution_count": 62,
      "metadata": {
        "colab": {
          "base_uri": "https://localhost:8080/"
        },
        "id": "imfMhidKoHJd",
        "outputId": "99cbdb68-76d3-446d-e6d6-5c2bfe3bef56"
      },
      "outputs": [
        {
          "output_type": "stream",
          "name": "stdout",
          "text": [
            "normalized data of feautures set:\n",
            "          age  sex        cp  trestbps      chol  fbs  restecg   thalach  \\\n",
            "0    0.708333  1.0  1.000000  0.481132  0.244292  1.0      0.0  0.603053   \n",
            "1    0.166667  1.0  0.666667  0.339623  0.283105  0.0      0.5  0.885496   \n",
            "2    0.250000  0.0  0.333333  0.339623  0.178082  0.0      0.0  0.770992   \n",
            "3    0.562500  1.0  0.333333  0.245283  0.251142  0.0      0.5  0.816794   \n",
            "4    0.583333  0.0  0.000000  0.245283  0.520548  0.0      0.5  0.702290   \n",
            "..        ...  ...       ...       ...       ...  ...      ...       ...   \n",
            "298  0.583333  0.0  0.000000  0.433962  0.262557  0.0      0.5  0.396947   \n",
            "299  0.333333  1.0  1.000000  0.150943  0.315068  0.0      0.5  0.465649   \n",
            "300  0.812500  1.0  0.000000  0.471698  0.152968  1.0      0.5  0.534351   \n",
            "301  0.583333  1.0  0.000000  0.339623  0.011416  0.0      0.5  0.335878   \n",
            "302  0.583333  0.0  0.333333  0.339623  0.251142  0.0      0.0  0.786260   \n",
            "\n",
            "     exang   oldpeak  slope    ca      thal  \n",
            "0      0.0  0.370968    0.0  0.00  0.333333  \n",
            "1      0.0  0.564516    0.0  0.00  0.666667  \n",
            "2      0.0  0.225806    1.0  0.00  0.666667  \n",
            "3      0.0  0.129032    1.0  0.00  0.666667  \n",
            "4      1.0  0.096774    1.0  0.00  0.666667  \n",
            "..     ...       ...    ...   ...       ...  \n",
            "298    1.0  0.032258    0.5  0.00  1.000000  \n",
            "299    0.0  0.193548    0.5  0.00  1.000000  \n",
            "300    0.0  0.548387    0.5  0.50  1.000000  \n",
            "301    1.0  0.193548    0.5  0.25  1.000000  \n",
            "302    0.0  0.000000    0.5  0.25  0.666667  \n",
            "\n",
            "[303 rows x 13 columns]\n",
            "[1 1 1 1 1 1 1 1 1 1 1 1 1 1 1 1 1 1 1 1 1 1 1 1 1 1 1 1 1 1 1 1 1 1 1 1 1\n",
            " 1 1 1 1 1 1 1 1 1 1 1 1 1 1 1 1 1 1 1 1 1 1 1 1 1 1 1 1 1 1 1 1 1 1 1 1 1\n",
            " 1 1 1 1 1 1 1 1 1 1 1 1 1 1 1 1 1 1 1 1 1 1 1 1 1 1 1 1 1 1 1 1 1 1 1 1 1\n",
            " 1 1 1 1 1 1 1 1 1 1 1 1 1 1 1 1 1 1 1 1 1 1 1 1 1 1 1 1 1 1 1 1 1 1 1 1 1\n",
            " 1 1 1 1 1 1 1 1 1 1 1 1 1 1 1 1 1 0 0 0 0 0 0 0 0 0 0 0 0 0 0 0 0 0 0 0 0\n",
            " 0 0 0 0 0 0 0 0 0 0 0 0 0 0 0 0 0 0 0 0 0 0 0 0 0 0 0 0 0 0 0 0 0 0 0 0 0\n",
            " 0 0 0 0 0 0 0 0 0 0 0 0 0 0 0 0 0 0 0 0 0 0 0 0 0 0 0 0 0 0 0 0 0 0 0 0 0\n",
            " 0 0 0 0 0 0 0 0 0 0 0 0 0 0 0 0 0 0 0 0 0 0 0 0 0 0 0 0 0 0 0 0 0 0 0 0 0\n",
            " 0 0 0 0 0 0 0]\n"
          ]
        }
      ],
      "source": [
        "import numpy as np\n",
        "X = features01\n",
        "xtrain_norm01 = (X - np.min(X, axis=0)) / (np.max(X, axis=0) - np.min(X, axis=0))\n",
        "print('normalized data of feautures set:')\n",
        "print(xtrain_norm01)\n",
        "target01 = np.where(target00 > 0, 1, 0)\n",
        "print(target01)"
      ]
    },
    {
      "cell_type": "code",
      "execution_count": 25,
      "metadata": {
        "colab": {
          "base_uri": "https://localhost:8080/"
        },
        "id": "POp33R_foe-9",
        "outputId": "c2a00411-095e-4cac-f743-42feff6adf3a"
      },
      "outputs": [
        {
          "output_type": "stream",
          "name": "stdout",
          "text": [
            "X_train shape: (212, 13)\n",
            "X_test shape: (91, 13)\n",
            "y_train shape: (212,)\n",
            "y_test shape: (91,)\n"
          ]
        }
      ],
      "source": [
        "from sklearn.model_selection import train_test_split\n",
        "X_train, X_test, y_train, y_test = train_test_split(xtrain_norm01,target01, test_size=0.3, random_state=42)\n",
        "print(\"X_train shape:\", X_train.shape)\n",
        "print(\"X_test shape:\", X_test.shape)\n",
        "print(\"y_train shape:\", y_train.shape)\n",
        "print(\"y_test shape:\", y_test.shape)"
      ]
    },
    {
      "cell_type": "code",
      "execution_count": 83,
      "metadata": {
        "id": "4irBoSKfosbK"
      },
      "outputs": [],
      "source": [
        "x = xtrain_norm01\n",
        "y_p = []\n",
        "def perceptron(weights :list[float], bias : float) -> list[float]:\n",
        "    #z = bias\n",
        "    for i in range(len(x)):\n",
        "        z = bias\n",
        "        for j in range(len(weights)):\n",
        "            z += x[i][j] * weights[j]\n",
        "        s = 1 / (1 + np.exp(-z))\n",
        "        if (s >= 0.5):\n",
        "            y_p.append(1)\n",
        "        else:\n",
        "            y_p.append(0)\n",
        "    return y_p\n"
      ]
    },
    {
      "cell_type": "code",
      "source": [
        "y_predict = perceptron([-2,-0.1,0.3,0.1,0.2,0.3,0.1,0.2,0.3,0.1,0.2,0.3,0.1],0.5)"
      ],
      "metadata": {
        "id": "Tixiw5JFLFlM"
      },
      "execution_count": null,
      "outputs": []
    },
    {
      "cell_type": "code",
      "source": [
        "comparison = np.array(y_predict) == np.array(target01)\n",
        "accuracy = sum(comparison) / len(target01)\n",
        "print(\"Accuracy:\", accuracy)"
      ],
      "metadata": {
        "colab": {
          "base_uri": "https://localhost:8080/"
        },
        "id": "GJ-h1LsVLM6C",
        "outputId": "a1f0ae78-19ab-423b-d328-0cc325344a2c"
      },
      "execution_count": 84,
      "outputs": [
        {
          "output_type": "stream",
          "name": "stdout",
          "text": [
            "Accuracy: 0.46204620462046203\n"
          ]
        }
      ]
    },
    {
      "cell_type": "code",
      "source": [
        "print(\"Shape of xtrain_norm01:\", xtrain_norm01.shape)\n",
        "print(\"Shape of target01:\", target01.shape)\n",
        "if xtrain_norm01.shape[0] != target01.shape[0]:\n",
        "    target01 = target01.reshape(xtrain_norm01.shape[0],)"
      ],
      "metadata": {
        "colab": {
          "base_uri": "https://localhost:8080/"
        },
        "id": "36IssGIxIEPL",
        "outputId": "f1c892c6-a76f-4643-e147-ce5c3c9db73c"
      },
      "execution_count": 75,
      "outputs": [
        {
          "output_type": "stream",
          "name": "stdout",
          "text": [
            "Shape of xtrain_norm01: (303, 13)\n",
            "Shape of target01: (303,)\n"
          ]
        }
      ]
    },
    {
      "cell_type": "code",
      "execution_count": null,
      "metadata": {
        "id": "hLU8JoEusR3_"
      },
      "outputs": [],
      "source": [
        "import random\n",
        "import numpy as np\n",
        "from sklearn.metrics import accuracy_score\n",
        "accuracies = []\n",
        "for i in range(20):\n",
        "    weights = [random.uniform(-1, 1) for _ in range(len(xtrain_norm01[0]))]\n",
        "    bias = random.uniform(-1, 1)\n",
        "    y_p = perceptron(weights, bias)\n",
        "    accuracy = accuracy_score(target01, y_p)\n",
        "    accuracies.append(accuracy)\n",
        "print(accuracies)"
      ]
    },
    {
      "cell_type": "code",
      "execution_count": 91,
      "metadata": {
        "colab": {
          "base_uri": "https://localhost:8080/"
        },
        "id": "pNau8Cl3vdSp",
        "outputId": "a922eea9-08a0-4eb2-ab04-d8e5dfefba75"
      },
      "outputs": [
        {
          "output_type": "stream",
          "name": "stdout",
          "text": [
            "Accuracy: 0.5445544554455446\n",
            "[1, 1, 1, 1, 1, 1, 1, 1, 1, 1, 1, 1, 1, 1, 1, 1, 1, 1, 1, 1, 1, 1, 1, 1, 1, 1, 1, 1, 1, 1, 1, 1, 1, 1, 1, 1, 1, 1, 1, 1, 1, 1, 1, 1, 1, 1, 1, 1, 1, 1, 1, 1, 1, 1, 1, 1, 1, 1, 1, 1, 1, 1, 1, 1, 1, 1, 1, 1, 1, 1, 1, 1, 1, 1, 1, 1, 1, 1, 1, 1, 1, 1, 1, 1, 1, 1, 1, 1, 1, 1, 1, 1, 1, 1, 1, 1, 1, 1, 1, 1, 1, 1, 1, 1, 1, 1, 1, 1, 1, 1, 1, 1, 1, 1, 1, 1, 1, 1, 1, 1, 1, 1, 1, 1, 1, 1, 1, 1, 1, 1, 1, 1, 1, 1, 1, 1, 1, 1, 1, 1, 1, 1, 1, 1, 1, 1, 1, 1, 1, 1, 1, 1, 1, 1, 1, 1, 1, 1, 1, 1, 1, 1, 1, 1, 1, 1, 1, 1, 1, 1, 1, 1, 1, 1, 1, 1, 1, 1, 1, 1, 1, 1, 1, 1, 1, 1, 1, 1, 1, 1, 1, 1, 1, 1, 1, 1, 1, 1, 1, 1, 1, 1, 1, 1, 1, 1, 1, 1, 1, 1, 1, 1, 1, 1, 1, 1, 1, 1, 1, 1, 1, 1, 1, 1, 1, 1, 1, 1, 1, 1, 1, 1, 1, 1, 1, 1, 1, 1, 1, 1, 1, 1, 1, 1, 1, 1, 1, 1, 1, 1, 1, 1, 1, 1, 1, 1, 1, 1, 1, 1, 1, 1, 1, 1, 1, 1, 1, 1, 1, 1, 1, 1, 1, 1, 1, 1, 1, 1, 1, 1, 1, 1, 1, 1, 1, 1, 1, 1, 1, 1, 1, 1, 1, 1, 1, 1, 1, 1, 1, 1, 1, 1, 1]\n"
          ]
        }
      ],
      "source": [
        "import numpy as np\n",
        "import pandas as pd\n",
        "q2 = pd.read_csv(\"/content/drive/MyDrive/heart.csv\")\n",
        "x1 = q2[['age', 'sex', 'cp', 'trestbps', 'chol', 'fbs', 'restecg', 'thalach', 'exang', 'oldpeak', 'slope', 'ca', 'thal']]\n",
        "x2 = q2['chol']\n",
        "y_actual = q2['target']\n",
        "def perceptron(w1, w2, w3, w4, w5, w6, w7, w8, w9, w10, w11, w12, w13, b):\n",
        "    y_p = []\n",
        "    for i in range(len(x1)):\n",
        "        z = x1.iloc[i].dot([w1, w2, w3, w4, w5, w6, w7, w8, w9, w10, w11, w12, w13]) + x2[i] * w2 + b\n",
        "        s = 1 / (1 + np.exp(-z))\n",
        "        if s >= 0.5:\n",
        "            y_p.append(1)\n",
        "        else:\n",
        "            y_p.append(0)\n",
        "    return y_p\n",
        "weight1 = 0.2\n",
        "weight2 = 0.6\n",
        "bias = -0.5\n",
        "y_pred = perceptron(weight1, weight2, weight1, weight1, weight1, weight1, weight1, weight1, weight1, weight1, weight1, weight1, weight1, bias)\n",
        "comparison = np.array(y_pred) == np.array(y_actual)\n",
        "accuracy = sum(comparison) / len(y_actual)\n",
        "print(\"Accuracy:\", accuracy)\n",
        "print(y_pred)"
      ]
    }
  ],
  "metadata": {
    "colab": {
      "provenance": []
    },
    "kernelspec": {
      "display_name": "Python 3",
      "name": "python3"
    },
    "language_info": {
      "name": "python"
    }
  },
  "nbformat": 4,
  "nbformat_minor": 0
}